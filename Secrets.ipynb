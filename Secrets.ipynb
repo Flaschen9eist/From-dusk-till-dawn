{
  "nbformat": 4,
  "nbformat_minor": 0,
  "metadata": {
    "colab": {
      "name": "Secrets.ipynb",
      "provenance": [],
      "collapsed_sections": [],
      "authorship_tag": "ABX9TyN+R2AatSJdCJv9Eftpr5WM",
      "include_colab_link": true
    },
    "kernelspec": {
      "name": "python3",
      "display_name": "Python 3"
    },
    "language_info": {
      "name": "python"
    }
  },
  "cells": [
    {
      "cell_type": "markdown",
      "metadata": {
        "id": "view-in-github",
        "colab_type": "text"
      },
      "source": [
        "<a href=\"https://colab.research.google.com/github/Flaschen9eist/From-dusk-till-dawn/blob/main/Secrets.ipynb\" target=\"_parent\"><img src=\"https://colab.research.google.com/assets/colab-badge.svg\" alt=\"Open In Colab\"/></a>"
      ]
    },
    {
      "cell_type": "code",
      "metadata": {
        "colab": {
          "base_uri": "https://localhost:8080/"
        },
        "id": "I2p40aRxEFNT",
        "outputId": "5caeabca-2d90-454f-fee9-2c6fa7f7500a"
      },
      "source": [
        "import random\n",
        "import secrets\n",
        "\n",
        "i = 0\n",
        "zufallszahl = []\n",
        "\n",
        "while i <= 200:\n",
        "  zufallszahl.append(secrets.randbits(2))\n",
        "  i += 1\n",
        "\n",
        "#zufallszahl = secrets.randbits(8)\n",
        "print(type(zufallszahl))\n",
        "print(zufallszahl)"
      ],
      "execution_count": 40,
      "outputs": [
        {
          "output_type": "stream",
          "name": "stdout",
          "text": [
            "<class 'list'>\n",
            "[2, 3, 1, 0, 3, 1, 1, 3, 3, 1, 2, 0, 0, 1, 0, 2, 2, 2, 3, 1, 2, 3, 1, 2, 2, 2, 1, 1, 2, 1, 2, 2, 0, 0, 2, 3, 3, 2, 2, 1, 0, 2, 1, 2, 0, 3, 0, 2, 1, 0, 0, 0, 3, 1, 0, 1, 0, 2, 3, 0, 2, 2, 2, 2, 1, 2, 2, 3, 1, 0, 0, 1, 3, 0, 0, 1, 1, 3, 3, 1, 2, 0, 2, 1, 3, 0, 3, 0, 0, 0, 1, 0, 1, 0, 2, 3, 0, 3, 2, 2, 0, 2, 0, 2, 2, 2, 3, 1, 2, 1, 3, 2, 1, 3, 1, 0, 2, 3, 1, 1, 3, 1, 2, 2, 2, 0, 3, 0, 2, 0, 3, 2, 3, 0, 1, 2, 1, 2, 0, 0, 0, 2, 2, 0, 2, 0, 3, 1, 3, 1, 0, 2, 1, 1, 1, 0, 1, 0, 0, 3, 1, 1, 2, 1, 3, 1, 2, 0, 3, 2, 1, 1, 2, 1, 2, 0, 3, 1, 2, 2, 0, 0, 3, 1, 2, 3, 0, 2, 1, 3, 3, 2, 1, 3, 2, 3, 0, 1, 0, 0, 0]\n"
          ]
        }
      ]
    }
  ]
}