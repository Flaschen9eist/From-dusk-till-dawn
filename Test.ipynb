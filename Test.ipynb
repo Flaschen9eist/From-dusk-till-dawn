{
  "nbformat": 4,
  "nbformat_minor": 0,
  "metadata": {
    "colab": {
      "name": "Test.ipynb",
      "provenance": [],
      "collapsed_sections": [],
      "toc_visible": true,
      "authorship_tag": "ABX9TyNcKQU8X4c4vqHjS2sdEZv3",
      "include_colab_link": true
    },
    "kernelspec": {
      "name": "python3",
      "display_name": "Python 3"
    },
    "language_info": {
      "name": "python"
    }
  },
  "cells": [
    {
      "cell_type": "markdown",
      "metadata": {
        "id": "view-in-github",
        "colab_type": "text"
      },
      "source": [
        "<a href=\"https://colab.research.google.com/github/Flaschen9eist/From-dusk-till-dawn/blob/main/Test.ipynb\" target=\"_parent\"><img src=\"https://colab.research.google.com/assets/colab-badge.svg\" alt=\"Open In Colab\"/></a>"
      ]
    },
    {
      "cell_type": "code",
      "metadata": {
        "colab": {
          "base_uri": "https://localhost:8080/"
        },
        "id": "Xcw0zXrIFlte",
        "outputId": "33971082-256c-4052-b541-ab610987203d"
      },
      "source": [
        "import string\n",
        "import secrets\n",
        "\n",
        "zeichenvorrat = string.ascii_letters + string.digits + '#*@§$%&'\n",
        "#print(zeichenvorrat)\n",
        "password = \"\"\n",
        "\n",
        "PwLaenge = int(input('Bitte geben Sie die Passwortlänge ein: '))\n",
        "\n",
        "for _ in range(PwLaenge):\n",
        "    password = password + secrets.choice(zeichenvorrat)\n",
        "\n",
        "print('Ihr neu erstelltes Passwort lautet:', password)"
      ],
      "execution_count": 6,
      "outputs": [
        {
          "output_type": "stream",
          "name": "stdout",
          "text": [
            "Bitte geben Sie die Passwortlänge ein: 8\n",
            "Ihr neu erstelltes Passwort lautet: j*NYN8GO\n"
          ]
        }
      ]
    },
    {
      "cell_type": "code",
      "metadata": {
        "colab": {
          "base_uri": "https://localhost:8080/"
        },
        "id": "tfluJJEgFy7K",
        "outputId": "20cb2d2f-3b07-4232-c863-0d135a1848a6"
      },
      "source": [
        "import secrets\n",
        "\n",
        "test2 = string.ascii_lowercase\n",
        "print(test2)"
      ],
      "execution_count": 7,
      "outputs": [
        {
          "output_type": "stream",
          "name": "stdout",
          "text": [
            "abcdefghijklmnopqrstuvwxyz\n"
          ]
        }
      ]
    }
  ]
}